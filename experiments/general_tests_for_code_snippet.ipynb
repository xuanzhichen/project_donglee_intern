{
 "cells": [
  {
   "cell_type": "code",
   "execution_count": 4,
   "metadata": {},
   "outputs": [],
   "source": [
    "current_interval = 'mid'\n",
    "next_interval = 'strong'"
   ]
  },
  {
   "cell_type": "code",
   "execution_count": 5,
   "metadata": {},
   "outputs": [
    {
     "name": "stdout",
     "output_type": "stream",
     "text": [
      "times_signal_switch_strong_mid\n"
     ]
    }
   ],
   "source": [
    "# Sort intervals alphabetically to ensure consistent column naming\n",
    "strength_order = {\"strong\": 3, \"mid\": 2, \"weak\": 1, \"null\": 0}\n",
    "intervals = sorted([current_interval, next_interval], \n",
    "                    key=lambda x: strength_order[x], \n",
    "                    reverse=True)\n",
    "column_name = f'times_signal_switch_{intervals[0]}_{intervals[1]}'\n",
    "\n",
    "print(column_name)"
   ]
  }
 ],
 "metadata": {
  "kernelspec": {
   "display_name": "env_donglee_intern",
   "language": "python",
   "name": "python3"
  },
  "language_info": {
   "codemirror_mode": {
    "name": "ipython",
    "version": 3
   },
   "file_extension": ".py",
   "mimetype": "text/x-python",
   "name": "python",
   "nbconvert_exporter": "python",
   "pygments_lexer": "ipython3",
   "version": "3.13.2"
  }
 },
 "nbformat": 4,
 "nbformat_minor": 2
}
